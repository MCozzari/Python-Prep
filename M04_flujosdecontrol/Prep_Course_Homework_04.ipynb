{
 "cells": [
  {
   "attachments": {},
   "cell_type": "markdown",
   "metadata": {},
   "source": [
    "## Flujos de Control"
   ]
  },
  {
   "attachments": {},
   "cell_type": "markdown",
   "metadata": {},
   "source": [
    "1) Crear una variable que contenga un elemento del conjunto de números enteros y luego imprimir por pantalla si es mayor o menor a cero"
   ]
  },
  {
   "cell_type": "code",
   "execution_count": 3,
   "metadata": {},
   "outputs": [
    {
     "name": "stdout",
     "output_type": "stream",
     "text": [
      "El numero es mayor a 0\n"
     ]
    }
   ],
   "source": [
    "x=4\n",
    "if x>0:\n",
    "    print(\"El numero es mayor a 0\")\n",
    "elif x<0:\n",
    "    print(\"El numero es menor a 0\")\n",
    "else:\n",
    "    print(\"El numero es 0\")\n"
   ]
  },
  {
   "attachments": {},
   "cell_type": "markdown",
   "metadata": {},
   "source": [
    "2) Crear dos variables y un condicional que informe si son del mismo tipo de dato"
   ]
  },
  {
   "cell_type": "code",
   "execution_count": 5,
   "metadata": {},
   "outputs": [
    {
     "name": "stdout",
     "output_type": "stream",
     "text": [
      "Las variables no son del mismo tipo de dato\n"
     ]
    }
   ],
   "source": [
    "var1=1\n",
    "var2=1.0\n",
    "if type(var1)==type(var2):\n",
    "    print(\"Las variables son del mismo tipo de dato\")\n",
    "else:\n",
    "    print(\"Las variables no son del mismo tipo de dato\")"
   ]
  },
  {
   "attachments": {},
   "cell_type": "markdown",
   "metadata": {},
   "source": [
    "3) Para los valores enteros del 1 al 20, imprimir por pantalla si es par o impar"
   ]
  },
  {
   "cell_type": "code",
   "execution_count": 52,
   "metadata": {},
   "outputs": [
    {
     "name": "stdout",
     "output_type": "stream",
     "text": [
      "El numero {1} es impar\n",
      "El numero {2} es par\n",
      "El numero {3} es impar\n",
      "El numero {4} es par\n",
      "El numero {5} es impar\n",
      "El numero {6} es par\n",
      "El numero {7} es impar\n",
      "El numero {8} es par\n",
      "El numero {9} es impar\n",
      "El numero {10} es par\n",
      "El numero {11} es impar\n",
      "El numero {12} es par\n",
      "El numero {13} es impar\n",
      "El numero {14} es par\n",
      "El numero {15} es impar\n",
      "El numero {16} es par\n",
      "El numero {17} es impar\n",
      "El numero {18} es par\n",
      "El numero {19} es impar\n",
      "El numero {20} es par\n"
     ]
    }
   ],
   "source": [
    "for i in range(1,21):\n",
    "    if i % 2 ==0:\n",
    "        print(\"El numero\", {i}, \"es par\")\n",
    "    else:\n",
    "        print(\"El numero\", {i}, \"es impar\")"
   ]
  },
  {
   "attachments": {},
   "cell_type": "markdown",
   "metadata": {},
   "source": [
    "4) En un ciclo for mostrar para los valores entre 0 y 5 el resultado de elevarlo a la potencia igual a 3"
   ]
  },
  {
   "cell_type": "code",
   "execution_count": 53,
   "metadata": {},
   "outputs": [
    {
     "name": "stdout",
     "output_type": "stream",
     "text": [
      "0  Elevado a la potencia igual a 3: 0\n",
      "1  Elevado a la potencia igual a 3: 1\n",
      "2  Elevado a la potencia igual a 3: 8\n",
      "3  Elevado a la potencia igual a 3: 27\n",
      "4  Elevado a la potencia igual a 3: 64\n",
      "5  Elevado a la potencia igual a 3: 125\n"
     ]
    }
   ],
   "source": [
    "for i in range(0,6):\n",
    "    print(i, \" Elevado a la potencia igual a 3:\", i**3)"
   ]
  },
  {
   "attachments": {},
   "cell_type": "markdown",
   "metadata": {},
   "source": [
    "5) Crear una variable que contenga un número entero y realizar un ciclo for la misma cantidad de ciclos"
   ]
  },
  {
   "cell_type": "code",
   "execution_count": 54,
   "metadata": {},
   "outputs": [
    {
     "name": "stdout",
     "output_type": "stream",
     "text": [
      "14\n"
     ]
    }
   ],
   "source": [
    "x=15\n",
    "for i in range (x):\n",
    "    continue\n",
    "print(i)"
   ]
  },
  {
   "attachments": {},
   "cell_type": "markdown",
   "metadata": {},
   "source": [
    "6) Utilizar un ciclo while para realizar el factorial de un número guardado en una variable, sólo si la variable contiene un número entero mayor a 0"
   ]
  },
  {
   "cell_type": "code",
   "execution_count": 55,
   "metadata": {},
   "outputs": [
    {
     "name": "stdout",
     "output_type": "stream",
     "text": [
      "El factorial del numero 5 es: 120\n"
     ]
    }
   ],
   "source": [
    "x=5\n",
    "fact=x\n",
    "i=0\n",
    "if type(x)==int:\n",
    "    if x>0:\n",
    "        while (x-i)>1:\n",
    "            i+=1\n",
    "            fact=fact*(x-i)\n",
    "        print(\"El factorial del numero\", x, \"es:\", fact)\n",
    "    else:\n",
    "        print(\"El numero no es mayor a 0\")\n",
    "else:\n",
    "    print(\"El valor no es entero\")"
   ]
  },
  {
   "attachments": {},
   "cell_type": "markdown",
   "metadata": {},
   "source": [
    "7) Crear un ciclo for dentro de un ciclo while"
   ]
  },
  {
   "cell_type": "code",
   "execution_count": 56,
   "metadata": {},
   "outputs": [
    {
     "name": "stdout",
     "output_type": "stream",
     "text": [
      "Ciclo While: 1, Ciclo for:  1\n",
      "Ciclo While: 2, Ciclo for:  1\n",
      "Ciclo While: 2, Ciclo for:  2\n",
      "Ciclo While: 3, Ciclo for:  1\n",
      "Ciclo While: 3, Ciclo for:  2\n",
      "Ciclo While: 3, Ciclo for:  3\n",
      "Ciclo While: 4, Ciclo for:  1\n",
      "Ciclo While: 4, Ciclo for:  2\n",
      "Ciclo While: 4, Ciclo for:  3\n",
      "Ciclo While: 4, Ciclo for:  4\n",
      "Ciclo While: 5, Ciclo for:  1\n",
      "Ciclo While: 5, Ciclo for:  2\n",
      "Ciclo While: 5, Ciclo for:  3\n",
      "Ciclo While: 5, Ciclo for:  4\n",
      "Ciclo While: 5, Ciclo for:  5\n"
     ]
    }
   ],
   "source": [
    "x=0\n",
    "while x<6:\n",
    "    for i in range(1,x+1):\n",
    "        print(\"Ciclo While:\", str(x) + \", Ciclo for: \", i)\n",
    "    x+=1"
   ]
  },
  {
   "attachments": {},
   "cell_type": "markdown",
   "metadata": {},
   "source": [
    "8) Crear un ciclo while dentro de un ciclo for"
   ]
  },
  {
   "cell_type": "code",
   "execution_count": 58,
   "metadata": {},
   "outputs": [
    {
     "name": "stdout",
     "output_type": "stream",
     "text": [
      "Ciclo for: 1, Ciclo while: 1\n",
      "Ciclo for: 2, Ciclo while: 1\n",
      "Ciclo for: 2, Ciclo while: 2\n",
      "Ciclo for: 3, Ciclo while: 1\n",
      "Ciclo for: 3, Ciclo while: 2\n",
      "Ciclo for: 3, Ciclo while: 3\n",
      "Ciclo for: 4, Ciclo while: 1\n",
      "Ciclo for: 4, Ciclo while: 2\n",
      "Ciclo for: 4, Ciclo while: 3\n",
      "Ciclo for: 4, Ciclo while: 4\n",
      "Ciclo for: 5, Ciclo while: 1\n",
      "Ciclo for: 5, Ciclo while: 2\n",
      "Ciclo for: 5, Ciclo while: 3\n",
      "Ciclo for: 5, Ciclo while: 4\n",
      "Ciclo for: 5, Ciclo while: 5\n"
     ]
    }
   ],
   "source": [
    "for i in range(1,6):\n",
    "    x=1\n",
    "    while x<=i:\n",
    "        print(\"Ciclo for:\", str(i) + \", Ciclo while:\", x)\n",
    "        x+=1\n"
   ]
  },
  {
   "attachments": {},
   "cell_type": "markdown",
   "metadata": {},
   "source": [
    "9) Imprimir los números primos existentes entre 0 y 30"
   ]
  },
  {
   "cell_type": "code",
   "execution_count": 59,
   "metadata": {},
   "outputs": [
    {
     "name": "stdout",
     "output_type": "stream",
     "text": [
      "0 Es un numero primo\n",
      "1 Es un numero primo\n",
      "2 Es un numero primo\n",
      "3 Es un numero primo\n",
      "5 Es un numero primo\n",
      "7 Es un numero primo\n",
      "11 Es un numero primo\n",
      "13 Es un numero primo\n",
      "17 Es un numero primo\n",
      "19 Es un numero primo\n",
      "23 Es un numero primo\n",
      "29 Es un numero primo\n"
     ]
    }
   ],
   "source": [
    "for i in range(0,31):\n",
    "    verif=True\n",
    "    for j in range (2,i):\n",
    "        if i % j ==0:\n",
    "            verif=False\n",
    "    if verif==True:\n",
    "        print(i,\"Es un numero primo\")"
   ]
  },
  {
   "attachments": {},
   "cell_type": "markdown",
   "metadata": {},
   "source": [
    "10) ¿Se puede mejorar el proceso del punto 9? Utilizar las sentencias break y/ó continue para tal fin"
   ]
  },
  {
   "cell_type": "code",
   "execution_count": 60,
   "metadata": {},
   "outputs": [
    {
     "name": "stdout",
     "output_type": "stream",
     "text": [
      "0 Es un numero primo\n",
      "1 Es un numero primo\n",
      "2 Es un numero primo\n",
      "3 Es un numero primo\n",
      "5 Es un numero primo\n",
      "7 Es un numero primo\n",
      "11 Es un numero primo\n",
      "13 Es un numero primo\n",
      "17 Es un numero primo\n",
      "19 Es un numero primo\n",
      "23 Es un numero primo\n",
      "29 Es un numero primo\n"
     ]
    }
   ],
   "source": [
    "for i in range(0,31):\n",
    "    verif=True\n",
    "    for j in range (2,i):\n",
    "        if i % j ==0:\n",
    "            verif=False\n",
    "            break\n",
    "    if verif==True:\n",
    "        print(i,\"Es un numero primo\")"
   ]
  },
  {
   "attachments": {},
   "cell_type": "markdown",
   "metadata": {},
   "source": [
    "11) En los puntos 9 y 10, se diseño un código que encuentra números primos y además se lo optimizó. ¿Es posible saber en qué medida se optimizó?"
   ]
  },
  {
   "cell_type": "code",
   "execution_count": 61,
   "metadata": {},
   "outputs": [
    {
     "name": "stdout",
     "output_type": "stream",
     "text": [
      "0  Es un numero primo\n",
      "1  Es un numero primo\n",
      "2  Es un numero primo\n",
      "3  Es un numero primo\n",
      "5  Es un numero primo\n",
      "7  Es un numero primo\n",
      "11  Es un numero primo\n",
      "13  Es un numero primo\n",
      "17  Es un numero primo\n",
      "19  Es un numero primo\n",
      "23  Es un numero primo\n",
      "29  Es un numero primo\n",
      "Cantidad de ciclos sin break: 406\n"
     ]
    }
   ],
   "source": [
    "sin_break=0\n",
    "for i in range(0,31):\n",
    "    verif=True\n",
    "    for j in range (2,i):\n",
    "        sin_break+=1\n",
    "        if i % j ==0:\n",
    "            verif=False\n",
    "    if verif==True:\n",
    "        print(i,\" Es un numero primo\")\n",
    "print(\"Cantidad de ciclos sin break:\", sin_break)"
   ]
  },
  {
   "cell_type": "code",
   "execution_count": 62,
   "metadata": {},
   "outputs": [
    {
     "name": "stdout",
     "output_type": "stream",
     "text": [
      "0  Es un numero primo\n",
      "1  Es un numero primo\n",
      "2  Es un numero primo\n",
      "3  Es un numero primo\n",
      "5  Es un numero primo\n",
      "7  Es un numero primo\n",
      "11  Es un numero primo\n",
      "13  Es un numero primo\n",
      "17  Es un numero primo\n",
      "19  Es un numero primo\n",
      "23  Es un numero primo\n",
      "29  Es un numero primo\n",
      "Cantidad de ciclos con break:  135\n",
      "Se optimizo el codigo un 0.33251231527093594% usando el break\n"
     ]
    }
   ],
   "source": [
    "con_break=0\n",
    "for i in range(0,31):\n",
    "    verif=True\n",
    "    for j in range (2,i):\n",
    "        con_break+=1\n",
    "        if i % j ==0:\n",
    "            verif=False\n",
    "            break\n",
    "    if verif==True:\n",
    "        print(i,\" Es un numero primo\")\n",
    "print(\"Cantidad de ciclos con break: \", con_break)\n",
    "print(\"Se optimizo el codigo un\", str(con_break/sin_break) + \"% usando el break\")"
   ]
  },
  {
   "attachments": {},
   "cell_type": "markdown",
   "metadata": {},
   "source": [
    "12) Aplicando continue, armar un ciclo while que solo imprima los valores divisibles por 12, dentro del rango de números de 100 a 300"
   ]
  },
  {
   "cell_type": "code",
   "execution_count": 67,
   "metadata": {},
   "outputs": [
    {
     "name": "stdout",
     "output_type": "stream",
     "text": [
      "108 Es divisible por 12\n",
      "120 Es divisible por 12\n",
      "132 Es divisible por 12\n",
      "144 Es divisible por 12\n",
      "156 Es divisible por 12\n",
      "168 Es divisible por 12\n",
      "180 Es divisible por 12\n",
      "192 Es divisible por 12\n",
      "204 Es divisible por 12\n",
      "216 Es divisible por 12\n",
      "228 Es divisible por 12\n",
      "240 Es divisible por 12\n",
      "252 Es divisible por 12\n",
      "264 Es divisible por 12\n",
      "276 Es divisible por 12\n",
      "288 Es divisible por 12\n",
      "300 Es divisible por 12\n"
     ]
    }
   ],
   "source": [
    "x=99\n",
    "while x<=300:\n",
    "    x+=1\n",
    "    if (x%12)!=0:\n",
    "        continue\n",
    "    print(x, \"Es divisible por 12\")\n",
    "    \n",
    "    \n",
    "    "
   ]
  },
  {
   "attachments": {},
   "cell_type": "markdown",
   "metadata": {},
   "source": [
    "13) Utilizar la función **input()** que permite hacer ingresos por teclado, para encontrar números primos y dar la opción al usario de buscar el siguiente"
   ]
  },
  {
   "cell_type": "code",
   "execution_count": 85,
   "metadata": {},
   "outputs": [
    {
     "name": "stdout",
     "output_type": "stream",
     "text": [
      "1 Es un numero primo\n",
      "¿Desea buscar el siguiente numero primo?\n",
      "Se finalizara el proceso\n"
     ]
    }
   ],
   "source": [
    "order= 1\n",
    "i=1\n",
    "while order == 1:\n",
    "    verif=True\n",
    "    for j in range (2,i):\n",
    "        if i % j ==0:\n",
    "            verif=False\n",
    "            break\n",
    "    if verif==True:\n",
    "        print(i,\"Es un numero primo\")\n",
    "        print(\"¿Desea buscar el siguiente numero primo?\")\n",
    "        order=int(input(\"Escriba 1 si desea continuar\"))\n",
    "        if order !=1:\n",
    "            print(\"Se finaliza el proceso\")\n",
    "    i+=1\n",
    "\n",
    "\n"
   ]
  },
  {
   "attachments": {},
   "cell_type": "markdown",
   "metadata": {},
   "source": [
    "14) Crear un ciclo while que encuentre dentro del rango de 100 a 300 el primer número divisible por 3 y además múltiplo de 6"
   ]
  },
  {
   "cell_type": "code",
   "execution_count": 87,
   "metadata": {},
   "outputs": [
    {
     "name": "stdout",
     "output_type": "stream",
     "text": [
      "El numero 102 es divisible por 6, por lo que es divisible por 3 y multiplo de 6\n"
     ]
    }
   ],
   "source": [
    "x=99\n",
    "while x<=300:\n",
    "    x+=1\n",
    "    if (x%6)==0:\n",
    "        print(\"El numero\", x, \"es divisible por 6, por lo que es divisible por 3 y multiplo de 6\")\n",
    "        break"
   ]
  }
 ],
 "metadata": {
  "interpreter": {
   "hash": "c85384e4cb51c8b72350f3a8712cc8351fdc3955e32a27f9b60c6242ab125f01"
  },
  "kernelspec": {
   "display_name": "Python 3 (ipykernel)",
   "language": "python",
   "name": "python3"
  },
  "language_info": {
   "codemirror_mode": {
    "name": "ipython",
    "version": 3
   },
   "file_extension": ".py",
   "mimetype": "text/x-python",
   "name": "python",
   "nbconvert_exporter": "python",
   "pygments_lexer": "ipython3",
   "version": "3.10.11"
  }
 },
 "nbformat": 4,
 "nbformat_minor": 4
}
