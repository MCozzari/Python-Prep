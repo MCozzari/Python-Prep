{
 "cells": [
  {
   "attachments": {},
   "cell_type": "markdown",
   "metadata": {},
   "source": [
    "## Funciones"
   ]
  },
  {
   "attachments": {},
   "cell_type": "markdown",
   "metadata": {},
   "source": [
    "1) Crear una función que reciba un número como parámetro y devuelva True si es primo y False si no lo es"
   ]
  },
  {
   "cell_type": "code",
   "execution_count": 8,
   "metadata": {},
   "outputs": [],
   "source": [
    "def verif_primo (num):\n",
    "    if num>0:\n",
    "        primo=True\n",
    "        for i in range(2,num):\n",
    "            if num%i==0:\n",
    "                primo=False\n",
    "                break\n",
    "        return primo\n",
    "    else:\n",
    "        return False"
   ]
  },
  {
   "cell_type": "code",
   "execution_count": 9,
   "metadata": {},
   "outputs": [
    {
     "name": "stdout",
     "output_type": "stream",
     "text": [
      "False\n"
     ]
    }
   ],
   "source": [
    "x=-15\n",
    "print(verif_primo(x))"
   ]
  },
  {
   "attachments": {},
   "cell_type": "markdown",
   "metadata": {},
   "source": [
    "2) Utilizando la función del punto 1, realizar otra función que reciba de parámetro una lista de números y devuelva sólo aquellos que son primos en otra lista"
   ]
  },
  {
   "cell_type": "code",
   "execution_count": 15,
   "metadata": {},
   "outputs": [],
   "source": [
    "def lis_primos(lis):\n",
    "    lista=[]\n",
    "    for i in lis:\n",
    "        if verif_primo(i):\n",
    "            lista.append(i)\n",
    "    return lista"
   ]
  },
  {
   "cell_type": "code",
   "execution_count": 16,
   "metadata": {},
   "outputs": [
    {
     "name": "stdout",
     "output_type": "stream",
     "text": [
      "[1, 2, 3, 5, 7]\n"
     ]
    }
   ],
   "source": [
    "lis=[1,2,3,4,5,6,7,8,9]\n",
    "print(lis_primos(lis))"
   ]
  },
  {
   "attachments": {},
   "cell_type": "markdown",
   "metadata": {},
   "source": [
    "3) Crear una función que al recibir una lista de números, devuelva el que más se repite y cuántas veces lo hace. Si hay más de un \"más repetido\", que devuelva cualquiera"
   ]
  },
  {
   "cell_type": "code",
   "execution_count": 20,
   "metadata": {},
   "outputs": [],
   "source": [
    "def repe (lis):\n",
    "    cont=0\n",
    "    for i in lis:\n",
    "        if lis.count(i) > cont:\n",
    "            cont=lis.count(i)\n",
    "            numero=i\n",
    "    return numero,cont"
   ]
  },
  {
   "cell_type": "code",
   "execution_count": 22,
   "metadata": {},
   "outputs": [
    {
     "name": "stdout",
     "output_type": "stream",
     "text": [
      "(2, 4)\n"
     ]
    }
   ],
   "source": [
    "lis=[2,1,3,1,4,2,5,2,4,7,3,8,3,2,6,9,1,1]\n",
    "print(repe(lis))"
   ]
  },
  {
   "attachments": {},
   "cell_type": "markdown",
   "metadata": {},
   "source": [
    "4) Crear una función que convierta entre grados Celsius, Farenheit y Kelvin<br>\n",
    "Fórmula 1\t: (°C × 9/5) + 32 = °F<br>\n",
    "Fórmula 2\t: °C + 273.15 = °K<br>\n",
    "Debe recibir 3 parámetros: el valor, la medida de orígen y la medida de destino\n"
   ]
  },
  {
   "cell_type": "code",
   "execution_count": 23,
   "metadata": {},
   "outputs": [],
   "source": [
    "def conver(grado,origen,destino):\n",
    "    if origen==\"C\":\n",
    "        if destino==\"F\":\n",
    "            return ((grado * 9/5) +32)\n",
    "        elif destino==\"K\":\n",
    "            return (grado+273.15)\n",
    "        elif destino==\"C\":\n",
    "            return grado\n",
    "        else:\n",
    "            print(\"El valor ingresado como medida de destino es incorrecto, por favor ingrese: C para Celsius, F para Farenheit y K para Kelvin\")\n",
    "    elif origen==\"F\":\n",
    "        if destino==\"C\":\n",
    "            return((grado-32)*5/9)\n",
    "        elif destino==\"K\":\n",
    "            return((conver(grado,\"F\",\"C\"))+273.15)\n",
    "        elif destino==\"F\":\n",
    "            return grado\n",
    "        else:\n",
    "            print(\"El valor ingresado como medida de destino es incorrecto, por favor ingrese: C para Celsius, F para Farenheit y K para Kelvin\")\n",
    "    elif origen==\"K\":\n",
    "        if destino==\"C\":\n",
    "            return(grado-273.15)\n",
    "        elif destino==\"F\":\n",
    "            return((conver(grado,\"K\",\"C\")*9/5)+32)\n",
    "        elif destino==\"K\":\n",
    "            return grado\n",
    "        else:\n",
    "            print(\"El valor ingresado como medida de destino es incorrecto, por favor ingrese: C para Celsius, F para Farenheit y K para Kelvin\")\n",
    "    else:\n",
    "        print(\"El valor ingresado como medida de Origen es incorrecto, por favor ingrese: C para Celsius, F para Farenheit y K para Kelvin\")"
   ]
  },
  {
   "cell_type": "code",
   "execution_count": 25,
   "metadata": {},
   "outputs": [
    {
     "name": "stdout",
     "output_type": "stream",
     "text": [
      "1 grado Celsius a Celsius: 1\n",
      "1 grado Celsius a Kelvin: 274.15\n",
      "1 grado Celsius a Farenheit: 33.8\n",
      "1 grado Kelvin a Celsius: -272.15\n",
      "1 grado Kelvin a Kelvin: 1\n",
      "1 grado Kelvin a Farenheit: -457.87\n",
      "1 grado Farenheit a Celsius: -17.22222222222222\n",
      "1 grado Farenheit a Kelvin: 255.92777777777775\n",
      "1 grado Farenheit a Farenheit: 1\n"
     ]
    }
   ],
   "source": [
    "print('1 grado Celsius a Celsius:', conver(1, 'C', 'C'))\n",
    "print('1 grado Celsius a Kelvin:', conver(1, 'C', 'K'))\n",
    "print('1 grado Celsius a Farenheit:', conver(1, 'C', 'F'))\n",
    "print('1 grado Kelvin a Celsius:', conver(1, 'K', 'C'))\n",
    "print('1 grado Kelvin a Kelvin:', conver(1, 'K', 'K'))\n",
    "print('1 grado Kelvin a Farenheit:', conver(1, 'K', 'F'))\n",
    "print('1 grado Farenheit a Celsius:', conver(1, 'F', 'C'))\n",
    "print('1 grado Farenheit a Kelvin:', conver(1, 'F', 'K'))\n",
    "print('1 grado Farenheit a Farenheit:', conver(1, 'F', 'F'))"
   ]
  },
  {
   "attachments": {},
   "cell_type": "markdown",
   "metadata": {},
   "source": [
    "5) Iterando una lista con los tres valores posibles de temperatura que recibe la función del punto 5, hacer un print para cada combinación de los mismos:"
   ]
  },
  {
   "cell_type": "code",
   "execution_count": 26,
   "metadata": {},
   "outputs": [
    {
     "name": "stdout",
     "output_type": "stream",
     "text": [
      "La conversion de 1 C a C es 1\n",
      "La conversion de 1 C a F es 33.8\n",
      "La conversion de 1 C a K es 274.15\n",
      "La conversion de 1 F a C es -17.22222222222222\n",
      "La conversion de 1 F a F es 1\n",
      "La conversion de 1 F a K es 255.92777777777775\n",
      "La conversion de 1 K a C es -272.15\n",
      "La conversion de 1 K a F es -457.87\n",
      "La conversion de 1 K a K es 1\n"
     ]
    }
   ],
   "source": [
    "medida=[\"C\",\"F\",\"K\"]\n",
    "for i in range (0,3):\n",
    "    for j in range(0,3):\n",
    "        print(\"La conversion de 1\", medida[i], \"a\", medida[j], \"es\", conver(1,medida[i],medida[j]))"
   ]
  },
  {
   "attachments": {},
   "cell_type": "markdown",
   "metadata": {},
   "source": [
    "6) Armar una función que devuelva el factorial de un número. Tener en cuenta que el usuario puede equivocarse y enviar de parámetro un número no entero o negativo"
   ]
  },
  {
   "cell_type": "code",
   "execution_count": 34,
   "metadata": {},
   "outputs": [],
   "source": [
    "def factorial(num):\n",
    "    if type(num)==int:\n",
    "        if num>1:\n",
    "            return (num*factorial(num-1))\n",
    "        elif num==1:\n",
    "            return 1\n",
    "        else:\n",
    "            return None\n",
    "    else: \n",
    "        return None"
   ]
  },
  {
   "cell_type": "code",
   "execution_count": 35,
   "metadata": {},
   "outputs": [
    {
     "name": "stdout",
     "output_type": "stream",
     "text": [
      "120\n"
     ]
    }
   ],
   "source": [
    "numero=5\n",
    "print(factorial(numero))"
   ]
  }
 ],
 "metadata": {
  "interpreter": {
   "hash": "c85384e4cb51c8b72350f3a8712cc8351fdc3955e32a27f9b60c6242ab125f01"
  },
  "kernelspec": {
   "display_name": "Python 3 (ipykernel)",
   "language": "python",
   "name": "python3"
  },
  "language_info": {
   "codemirror_mode": {
    "name": "ipython",
    "version": 3
   },
   "file_extension": ".py",
   "mimetype": "text/x-python",
   "name": "python",
   "nbconvert_exporter": "python",
   "pygments_lexer": "ipython3",
   "version": "3.10.11"
  }
 },
 "nbformat": 4,
 "nbformat_minor": 4
}
