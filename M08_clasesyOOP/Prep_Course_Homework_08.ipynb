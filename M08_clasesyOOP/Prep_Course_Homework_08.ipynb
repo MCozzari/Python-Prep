{
 "cells": [
  {
   "attachments": {},
   "cell_type": "markdown",
   "metadata": {},
   "source": [
    "## Clases y Programación Orientada a Objetos"
   ]
  },
  {
   "attachments": {},
   "cell_type": "markdown",
   "metadata": {},
   "source": [
    "1) Crear la clase vehículo que contenga los atributos:<br>\n",
    "Color<br>\n",
    "Si es moto, auto, camioneta ó camión<br>\n",
    "Cilindrada del motor"
   ]
  },
  {
   "cell_type": "code",
   "execution_count": 1,
   "metadata": {},
   "outputs": [],
   "source": [
    "class Vehiculo:\n",
    "    def __init__(self,color,tipo,cilindrada):\n",
    "        self.color=color\n",
    "        self.tipo=tipo\n",
    "        self.cilindrada=cilindrada"
   ]
  },
  {
   "attachments": {},
   "cell_type": "markdown",
   "metadata": {},
   "source": [
    "2) A la clase Vehiculo creada en el punto 1, agregar los siguientes métodos:<br>\n",
    "Acelerar<br>\n",
    "Frenar<br>\n",
    "Doblar<br>"
   ]
  },
  {
   "cell_type": "code",
   "execution_count": 2,
   "metadata": {},
   "outputs": [],
   "source": [
    "class Vehiculo:\n",
    "    def __init__(self,color,tipo,cilindrada):\n",
    "        self.color=color\n",
    "        self.tipo=tipo\n",
    "        self.cilindrada=cilindrada\n",
    "        self.velocidad=0\n",
    "        self.direccion=0\n",
    "    \n",
    "    def acelerar(self,vel):\n",
    "        self.velocidad+=vel\n",
    "    \n",
    "    def frenar(self,fre):\n",
    "        self.velocidad-=fre\n",
    "\n",
    "    def doblar(self,dir):\n",
    "        self.direccion=dir\n"
   ]
  },
  {
   "attachments": {},
   "cell_type": "markdown",
   "metadata": {},
   "source": [
    "3) Instanciar 3 objetos de la clase vehículo y ejecutar sus métodos, probar luego el resultado"
   ]
  },
  {
   "cell_type": "code",
   "execution_count": 3,
   "metadata": {},
   "outputs": [],
   "source": [
    "auto1=Vehiculo(\"Azul\",\"Camioneta\", 5)\n",
    "auto2=Vehiculo(\"Negro\",\"Auto\",2)\n",
    "auto3=Vehiculo(\"Blanco\",\"Moto\",3)"
   ]
  },
  {
   "cell_type": "code",
   "execution_count": 4,
   "metadata": {},
   "outputs": [],
   "source": [
    "auto1.acelerar(5)\n",
    "auto2.acelerar(3)\n",
    "auto2.acelerar(4)\n",
    "\n",
    "auto1.frenar(2)\n",
    "auto2.frenar(1)\n",
    "auto3.frenar(1)\n",
    "\n",
    "auto1.doblar(-45)\n",
    "auto3.doblar(60)"
   ]
  },
  {
   "attachments": {},
   "cell_type": "markdown",
   "metadata": {},
   "source": [
    "4) Agregar a la clase Vehiculo, un método que muestre su estado, es decir, a que velocidad se encuentra y su dirección. Y otro método que muestre color, tipo y cilindrada"
   ]
  },
  {
   "cell_type": "code",
   "execution_count": 13,
   "metadata": {},
   "outputs": [],
   "source": [
    "class Vehiculo:\n",
    "    def __init__(self,color,tipo,cilindrada):\n",
    "        self.color=color\n",
    "        self.tipo=tipo\n",
    "        self.cilindrada=cilindrada\n",
    "        self.velocidad=0\n",
    "        self.direccion=0\n",
    "    \n",
    "    def acelerar(self,vel):\n",
    "        self.velocidad+=vel\n",
    "    \n",
    "    def frenar(self,fre):\n",
    "        self.velocidad-=fre\n",
    "\n",
    "    def doblar(self,dir):\n",
    "        self.direccion=dir\n",
    "\n",
    "    def estado(self):\n",
    "        print(\"El vehiculo se encuentra a una velocidad de:\", self.velocidad, \"y una direccion de:\", self.direccion,\"grados\")\n",
    "    \n",
    "    def detalles(self):\n",
    "        print(\"El vehiculo es del tipo:\", self.tipo +\". con un color:\", self.color + \". y una cilindrada de:\", self.cilindrada)"
   ]
  },
  {
   "cell_type": "code",
   "execution_count": 14,
   "metadata": {},
   "outputs": [],
   "source": [
    "auto1=Vehiculo(\"Azul\",\"Camioneta\", 5)\n",
    "auto2=Vehiculo(\"Negro\",\"Auto\",2)\n",
    "auto3=Vehiculo(\"Blanco\",\"Moto\",3)\n",
    "\n",
    "auto1.acelerar(5)\n",
    "auto2.acelerar(3)\n",
    "auto2.acelerar(4)\n",
    "\n",
    "auto1.frenar(2)\n",
    "auto2.frenar(1)\n",
    "auto3.frenar(1)\n",
    "\n",
    "auto1.doblar(-45)\n",
    "auto3.doblar(60)"
   ]
  },
  {
   "cell_type": "code",
   "execution_count": 15,
   "metadata": {},
   "outputs": [
    {
     "name": "stdout",
     "output_type": "stream",
     "text": [
      "El vehiculo se encuentra a una velocidad de: 3 y una direccion de: -45 grados\n",
      "El vehiculo es del tipo: Camioneta. con un color: Azul. y una cilindrada de: 5\n"
     ]
    }
   ],
   "source": [
    "auto1.estado()\n",
    "auto1.detalles()"
   ]
  },
  {
   "attachments": {},
   "cell_type": "markdown",
   "metadata": {},
   "source": [
    "5) Crear una clase que permita utilizar las funciones creadas en la práctica del módulo 7<br>\n",
    "Verificar Primo<br>\n",
    "Valor modal<br>\n",
    "Conversión grados<br>\n",
    "Factorial<br>"
   ]
  },
  {
   "cell_type": "code",
   "execution_count": 19,
   "metadata": {},
   "outputs": [],
   "source": [
    "class Modulo7:\n",
    "\n",
    "    def __init__(self)->None:\n",
    "        pass\n",
    "\n",
    "    def verif_primo (self,num):\n",
    "        if num>0:\n",
    "            primo=True\n",
    "            for i in range(2,num):\n",
    "                if num%i==0:\n",
    "                    primo=False\n",
    "                    break\n",
    "            return primo\n",
    "        else:\n",
    "            return False\n",
    "        \n",
    "    def repe (self,lis):\n",
    "        cont=0\n",
    "        for i in lis:\n",
    "            if lis.count(i) > cont:\n",
    "                cont=lis.count(i)\n",
    "                numero=i\n",
    "        return numero,cont\n",
    "    \n",
    "    def conver(self,grado,origen,destino):\n",
    "        if origen==\"C\":\n",
    "            if destino==\"F\":\n",
    "                return ((grado * 9/5) +32)\n",
    "            elif destino==\"K\":\n",
    "                return (grado+273.15)\n",
    "            elif destino==\"C\":\n",
    "                return grado\n",
    "            else:\n",
    "                print(\"El valor ingresado como medida de destino es incorrecto, por favor ingrese: C para Celsius, F para Farenheit y K para Kelvin\")\n",
    "        elif origen==\"F\":\n",
    "            if destino==\"C\":\n",
    "                return((grado-32)*5/9)\n",
    "            elif destino==\"K\":\n",
    "                return((self.conver(grado,\"F\",\"C\"))+273.15)\n",
    "            elif destino==\"F\":\n",
    "                return grado\n",
    "            else:\n",
    "                print(\"El valor ingresado como medida de destino es incorrecto, por favor ingrese: C para Celsius, F para Farenheit y K para Kelvin\")\n",
    "        elif origen==\"K\":\n",
    "            if destino==\"C\":\n",
    "                return(grado-273.15)\n",
    "            elif destino==\"F\":\n",
    "                return((self.conver(grado,\"K\",\"C\")*9/5)+32)\n",
    "            elif destino==\"K\":\n",
    "                return grado\n",
    "            else:\n",
    "                print(\"El valor ingresado como medida de destino es incorrecto, por favor ingrese: C para Celsius, F para Farenheit y K para Kelvin\")\n",
    "        else:\n",
    "            print(\"El valor ingresado como medida de Origen es incorrecto, por favor ingrese: C para Celsius, F para Farenheit y K para Kelvin\")\n",
    "\n",
    "    def factorial(self,num):\n",
    "        if type(num)==int:\n",
    "            if num>1:\n",
    "                return (num*self.factorial(num-1))\n",
    "            elif num==1:\n",
    "                return 1\n",
    "            else:\n",
    "                return None\n",
    "        else: \n",
    "            return None"
   ]
  },
  {
   "attachments": {},
   "cell_type": "markdown",
   "metadata": {},
   "source": [
    "6) Probar las funciones incorporadas en la clase del punto 5"
   ]
  },
  {
   "cell_type": "code",
   "execution_count": 20,
   "metadata": {},
   "outputs": [
    {
     "data": {
      "text/plain": [
       "120"
      ]
     },
     "execution_count": 20,
     "metadata": {},
     "output_type": "execute_result"
    }
   ],
   "source": [
    "test=Modulo7()\n",
    "test.factorial(5)"
   ]
  },
  {
   "cell_type": "code",
   "execution_count": 21,
   "metadata": {},
   "outputs": [
    {
     "data": {
      "text/plain": [
       "(1, 4)"
      ]
     },
     "execution_count": 21,
     "metadata": {},
     "output_type": "execute_result"
    }
   ],
   "source": [
    "test.repe([1,1,1,2,5,4,7,6,3,2,5,1,3])"
   ]
  },
  {
   "cell_type": "code",
   "execution_count": 22,
   "metadata": {},
   "outputs": [
    {
     "data": {
      "text/plain": [
       "274.15"
      ]
     },
     "execution_count": 22,
     "metadata": {},
     "output_type": "execute_result"
    }
   ],
   "source": [
    "test.conver(1,\"C\",\"K\")"
   ]
  },
  {
   "cell_type": "code",
   "execution_count": 23,
   "metadata": {},
   "outputs": [
    {
     "data": {
      "text/plain": [
       "True"
      ]
     },
     "execution_count": 23,
     "metadata": {},
     "output_type": "execute_result"
    }
   ],
   "source": [
    "test.verif_primo(5)"
   ]
  },
  {
   "attachments": {},
   "cell_type": "markdown",
   "metadata": {},
   "source": [
    "7) Es necesario que la clase creada en el punto 5 contenga una lista, sobre la cual se apliquen las funciones incorporadas"
   ]
  },
  {
   "cell_type": "code",
   "execution_count": 28,
   "metadata": {},
   "outputs": [],
   "source": [
    "class Modulo7:\n",
    "\n",
    "    def __init__(self,lista):\n",
    "        self.lista=lista\n",
    "    \n",
    "    def verif_primo(self):\n",
    "        for i in self.lista:\n",
    "            if (self.__verif_primo(i)):\n",
    "                print(\"El numero\", i, \"es primo\")\n",
    "            else:\n",
    "                print(\"El numero\", i, \"no es primo\")\n",
    "\n",
    "    def conver(self,origen,destino):\n",
    "        for i in self.lista:\n",
    "            print(\"La conversion de\",i,\"grado\",origen, \"a\", destino, \"es\", self.__conver(i,origen,destino))\n",
    "    \n",
    "    def factorial(self):\n",
    "        for i in self.lista:\n",
    "            print(\"El factorial de \",i, \"es:\",self.__factorial(i))\n",
    "\n",
    "    def __verif_primo (self,num):\n",
    "        if num>0:\n",
    "            primo=True\n",
    "            for i in range(2,num):\n",
    "                if num%i==0:\n",
    "                    primo=False\n",
    "                    break\n",
    "            return primo\n",
    "        else:\n",
    "            return False\n",
    "        \n",
    "    def repe (self):\n",
    "        cont=0\n",
    "        for i in self.lista:\n",
    "            if self.lista.count(i) > cont:\n",
    "                cont=self.lista.count(i)\n",
    "                numero=i\n",
    "        return numero,cont\n",
    "    \n",
    "    def __conver(self,grado,origen,destino):\n",
    "        if origen==\"C\":\n",
    "            if destino==\"F\":\n",
    "                return ((grado * 9/5) +32)\n",
    "            elif destino==\"K\":\n",
    "                return (grado+273.15)\n",
    "            elif destino==\"C\":\n",
    "                return grado\n",
    "            else:\n",
    "                print(\"El valor ingresado como medida de destino es incorrecto, por favor ingrese: C para Celsius, F para Farenheit y K para Kelvin\")\n",
    "        elif origen==\"F\":\n",
    "            if destino==\"C\":\n",
    "                return((grado-32)*5/9)\n",
    "            elif destino==\"K\":\n",
    "                return((self.__conver(grado,\"F\",\"C\"))+273.15)\n",
    "            elif destino==\"F\":\n",
    "                return grado\n",
    "            else:\n",
    "                print(\"El valor ingresado como medida de destino es incorrecto, por favor ingrese: C para Celsius, F para Farenheit y K para Kelvin\")\n",
    "        elif origen==\"K\":\n",
    "            if destino==\"C\":\n",
    "                return(grado-273.15)\n",
    "            elif destino==\"F\":\n",
    "                return((self.__conver(grado,\"K\",\"C\")*9/5)+32)\n",
    "            elif destino==\"K\":\n",
    "                return grado\n",
    "            else:\n",
    "                print(\"El valor ingresado como medida de destino es incorrecto, por favor ingrese: C para Celsius, F para Farenheit y K para Kelvin\")\n",
    "        else:\n",
    "            print(\"El valor ingresado como medida de Origen es incorrecto, por favor ingrese: C para Celsius, F para Farenheit y K para Kelvin\")\n",
    "\n",
    "    def __factorial(self,num):\n",
    "        if type(num)==int:\n",
    "            if num>1:\n",
    "                return (num*self.__factorial(num-1))\n",
    "            elif num==1:\n",
    "                return 1\n",
    "            else:\n",
    "                return None\n",
    "        else: \n",
    "            return None"
   ]
  },
  {
   "cell_type": "code",
   "execution_count": 29,
   "metadata": {},
   "outputs": [],
   "source": [
    "test=Modulo7([1,1,1,2,5,4,7,6,3,2,5,1,3])\n"
   ]
  },
  {
   "cell_type": "code",
   "execution_count": 30,
   "metadata": {},
   "outputs": [
    {
     "name": "stdout",
     "output_type": "stream",
     "text": [
      "El numero 1 es primo\n",
      "El numero 1 es primo\n",
      "El numero 1 es primo\n",
      "El numero 2 es primo\n",
      "El numero 5 es primo\n",
      "El numero 4 no es primo\n",
      "El numero 7 es primo\n",
      "El numero 6 no es primo\n",
      "El numero 3 es primo\n",
      "El numero 2 es primo\n",
      "El numero 5 es primo\n",
      "El numero 1 es primo\n",
      "El numero 3 es primo\n"
     ]
    }
   ],
   "source": [
    "test.verif_primo()"
   ]
  },
  {
   "cell_type": "code",
   "execution_count": 31,
   "metadata": {},
   "outputs": [
    {
     "data": {
      "text/plain": [
       "(1, 4)"
      ]
     },
     "execution_count": 31,
     "metadata": {},
     "output_type": "execute_result"
    }
   ],
   "source": [
    "test.repe()"
   ]
  },
  {
   "cell_type": "code",
   "execution_count": 32,
   "metadata": {},
   "outputs": [
    {
     "name": "stdout",
     "output_type": "stream",
     "text": [
      "La conversion de 1 grado C a F es 33.8\n",
      "La conversion de 1 grado C a F es 33.8\n",
      "La conversion de 1 grado C a F es 33.8\n",
      "La conversion de 2 grado C a F es 35.6\n",
      "La conversion de 5 grado C a F es 41.0\n",
      "La conversion de 4 grado C a F es 39.2\n",
      "La conversion de 7 grado C a F es 44.6\n",
      "La conversion de 6 grado C a F es 42.8\n",
      "La conversion de 3 grado C a F es 37.4\n",
      "La conversion de 2 grado C a F es 35.6\n",
      "La conversion de 5 grado C a F es 41.0\n",
      "La conversion de 1 grado C a F es 33.8\n",
      "La conversion de 3 grado C a F es 37.4\n"
     ]
    }
   ],
   "source": [
    "test.conver(\"C\",\"F\")"
   ]
  },
  {
   "cell_type": "code",
   "execution_count": 33,
   "metadata": {},
   "outputs": [
    {
     "name": "stdout",
     "output_type": "stream",
     "text": [
      "El factorial de  1 es: 1\n",
      "El factorial de  1 es: 1\n",
      "El factorial de  1 es: 1\n",
      "El factorial de  2 es: 2\n",
      "El factorial de  5 es: 120\n",
      "El factorial de  4 es: 24\n",
      "El factorial de  7 es: 5040\n",
      "El factorial de  6 es: 720\n",
      "El factorial de  3 es: 6\n",
      "El factorial de  2 es: 2\n",
      "El factorial de  5 es: 120\n",
      "El factorial de  1 es: 1\n",
      "El factorial de  3 es: 6\n"
     ]
    }
   ],
   "source": [
    "test.factorial()"
   ]
  },
  {
   "attachments": {},
   "cell_type": "markdown",
   "metadata": {},
   "source": [
    "8) Crear un archivo .py aparte y ubicar allí la clase generada en el punto anterior. Luego realizar la importación del módulo y probar alguna de sus funciones"
   ]
  },
  {
   "cell_type": "code",
   "execution_count": 34,
   "metadata": {},
   "outputs": [],
   "source": [
    "from Ejercicio8 import Modulo7"
   ]
  },
  {
   "cell_type": "code",
   "execution_count": 35,
   "metadata": {},
   "outputs": [],
   "source": [
    "test2=Modulo7([1,1,1,2,5,4,7,6,3,2,5,1,3])"
   ]
  },
  {
   "cell_type": "code",
   "execution_count": 36,
   "metadata": {},
   "outputs": [
    {
     "name": "stdout",
     "output_type": "stream",
     "text": [
      "El factorial de  1 es: 1\n",
      "El factorial de  1 es: 1\n",
      "El factorial de  1 es: 1\n",
      "El factorial de  2 es: 2\n",
      "El factorial de  5 es: 120\n",
      "El factorial de  4 es: 24\n",
      "El factorial de  7 es: 5040\n",
      "El factorial de  6 es: 720\n",
      "El factorial de  3 es: 6\n",
      "El factorial de  2 es: 2\n",
      "El factorial de  5 es: 120\n",
      "El factorial de  1 es: 1\n",
      "El factorial de  3 es: 6\n"
     ]
    }
   ],
   "source": [
    "test2.factorial()"
   ]
  }
 ],
 "metadata": {
  "interpreter": {
   "hash": "c85384e4cb51c8b72350f3a8712cc8351fdc3955e32a27f9b60c6242ab125f01"
  },
  "kernelspec": {
   "display_name": "Python 3 (ipykernel)",
   "language": "python",
   "name": "python3"
  },
  "language_info": {
   "codemirror_mode": {
    "name": "ipython",
    "version": 3
   },
   "file_extension": ".py",
   "mimetype": "text/x-python",
   "name": "python",
   "nbconvert_exporter": "python",
   "pygments_lexer": "ipython3",
   "version": "3.10.11"
  }
 },
 "nbformat": 4,
 "nbformat_minor": 4
}
